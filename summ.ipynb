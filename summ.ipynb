{
 "cells": [
  {
   "cell_type": "code",
   "execution_count": 7,
   "metadata": {},
   "outputs": [],
   "source": [
    "import numpy as np\n",
    "import pandas as pd\n",
    "import nltk\n",
    "import re"
   ]
  },
  {
   "cell_type": "code",
   "execution_count": 8,
   "metadata": {},
   "outputs": [
    {
     "data": {
      "text/plain": [
       "\"BASEL, Switzerland (AP), Roger Federer advanced to the 14th Swiss Indoors final of his career by beating seventh-seeded Daniil Medvedev 6-1, 6-4 on Saturday. Seeking a ninth title at his hometown event, and a 99th overall, Federer will play 93th-ranked Marius Copil on Sunday. Federer dominated the 20th-ranked Medvedev and had his first match-point chance to break serve again at 5-1. He then dropped his serve to love, and let another match point slip in Medvedev's next service game by netting a backhand. He clinched on his fourth chance when Medvedev netted from the baseline. Copil upset expectations of a Federer final against Alexander Zverev in a 6-3, 6-7 (6), 6-4 win over the fifth-ranked German in the earlier semifinal. The Romanian aims for a first title after arriving at Basel without a career win over a top-10 opponent. Copil has two after also beating No. 6 Marin Cilic in the second round. Copil fired 26 aces past Zverev and never dropped serve, clinching after 2 1/2 hours with a forehand volley winner to break Zverev for the second time in the semifinal. He came through two rounds of qualifying last weekend to reach the Basel main draw, including beating Zverev's older brother, Mischa. Federer had an easier time than in his only previous match against Medvedev, a three-setter at Shanghai two weeks ago.\""
      ]
     },
     "execution_count": 8,
     "metadata": {},
     "output_type": "execute_result"
    }
   ],
   "source": [
    "df = pd.read_csv(\"tennis_articles_v4.csv\")\n",
    "df.head()\n",
    "df['article_text'][0]\n",
    "df['article_text'][1]"
   ]
  },
  {
   "cell_type": "code",
   "execution_count": 9,
   "metadata": {},
   "outputs": [
    {
     "data": {
      "text/plain": [
       "['Maria Sharapova has basically no friends as tennis players on the WTA Tour.',\n",
       " \"The Russian player has no problems in openly speaking about it and in a recent interview she said: 'I don't really hide any feelings too much.\",\n",
       " 'I think everyone knows this is my job here.',\n",
       " \"When I'm on the courts or when I'm on the court playing, I'm a competitor and I want to beat every single person whether they're in the locker room or across the net.So I'm not the one to strike up a conversation about the weather and know that in the next few minutes I have to go and try to win a tennis match.\",\n",
       " \"I'm a pretty competitive girl.\"]"
      ]
     },
     "execution_count": 9,
     "metadata": {},
     "output_type": "execute_result"
    }
   ],
   "source": [
    "#Splilt sentences\n",
    "from nltk.tokenize import sent_tokenize\n",
    "sentences = []\n",
    "for s in df['article_text']:\n",
    "  sentences.append(sent_tokenize(s))\n",
    "\n",
    "sentences = [y for x in sentences for y in x] # flatten list\n",
    "\n",
    "sentences[:5]"
   ]
  },
  {
   "cell_type": "code",
   "execution_count": 10,
   "metadata": {},
   "outputs": [],
   "source": [
    "#wget http://nlp.stanford.edu/data/glove.6B.zip\n",
    "#unzip glove*.zip\n"
   ]
  },
  {
   "cell_type": "code",
   "execution_count": 11,
   "metadata": {},
   "outputs": [],
   "source": [
    "#Let’s extract the words embeddings or word vectors.\n",
    "word_embeddings = {}\n",
    "f = open('glove.6B.50d.txt')\n",
    "for line in f:\n",
    "    values = line.split()\n",
    "    word = values[0]\n",
    "    coefs = np.asarray(values[1:], dtype='float32')\n",
    "    word_embeddings[word] = coefs\n",
    "f.close()"
   ]
  },
  {
   "cell_type": "code",
   "execution_count": 12,
   "metadata": {},
   "outputs": [
    {
     "data": {
      "text/plain": [
       "193442"
      ]
     },
     "execution_count": 12,
     "metadata": {},
     "output_type": "execute_result"
    }
   ],
   "source": [
    "len(word_embeddings)"
   ]
  },
  {
   "cell_type": "code",
   "execution_count": 13,
   "metadata": {},
   "outputs": [],
   "source": [
    "#Text Preprocessing\n",
    "# remove punctuations, numbers and special characters\n",
    "clean_sentences = pd.Series(sentences).str.replace(\"[^a-zA-Z]\", \" \")\n",
    "\n",
    "# make alphabets lowercase\n",
    "clean_sentences = [s.lower() for s in clean_sentences]"
   ]
  },
  {
   "cell_type": "code",
   "execution_count": 14,
   "metadata": {},
   "outputs": [],
   "source": [
    "from nltk.corpus import stopwords\n",
    "stop_words = stopwords.words('english')"
   ]
  },
  {
   "cell_type": "code",
   "execution_count": 15,
   "metadata": {},
   "outputs": [],
   "source": [
    "# function to remove stopwords\n",
    "def remove_stopwords(sen):\n",
    "    sen_new = \" \".join([i for i in sen if i not in stop_words])\n",
    "    return sen_new"
   ]
  },
  {
   "cell_type": "code",
   "execution_count": 19,
   "metadata": {},
   "outputs": [
    {
     "name": "stdout",
     "output_type": "stream",
     "text": [
      "['maria sharapova basically friends tennis players wta tour', 'russian player problems openly speaking recent interview said really hide feelings much', 'think everyone knows job', 'courts court playing competitor want beat every single person whether locker room across net one strike conversation weather know next minutes go try win tennis match', 'pretty competitive girl', 'say hellos sending players flowers well', 'uhm really friendly close many players', 'lot friends away courts', 'said really close lot players something strategic', 'different men tour women tour', '', 'think sport mean friends everyone categorized tennis player going get along tennis players', 'think every person different interests', 'friends completely different jobs interests met different parts life', 'think everyone thinks tennis players greatest friends', 'ultimately tennis small part', 'many things interested', 'basel switzerland ap roger federer advanced th swiss indoors final career beating seventh seeded daniil medvedev saturday', 'seeking ninth title hometown event th overall federer play th ranked marius copil sunday', 'federer dominated th ranked medvedev first match point chance break serve', 'dropped serve love let another match point slip medvedev next service game netting backhand', 'clinched fourth chance medvedev netted baseline', 'copil upset expectations federer final alexander zverev win fifth ranked german earlier semifinal', 'romanian aims first title arriving basel without career win top opponent', 'copil two also beating', 'marin cilic second round', 'copil fired aces past zverev never dropped serve clinching hours forehand volley winner break zverev second time semifinal', 'came two rounds qualifying last weekend reach basel main draw including beating zverev older brother mischa', 'federer easier time previous match medvedev three setter shanghai two weeks ago', 'roger federer revealed organisers launched condensed davis cup gave three days decide would commit controversial competition', 'speaking swiss indoors tournament play sundays final romanian qualifier marius copil world number three said given impossibly short time frame make decision opted commitment', 'left three days decide federer said', 'time consult people consult', 'could make decision time told wanted', 'time grand slam champion voiced doubts wisdom one week format introduced organisers kosmos promised international tennis federation billion prize money next quarter century', 'competition set feature countries november finals madrid next year replace classic home away ties played four times per year decades', 'kosmos headed barcelona footballer gerard pique hoping fellow spaniard rafael nadal play upcoming event', 'novak djokovic said give precedence atp intended launch defunct world team cup january various australian venues', 'major players feel big event late november combined one january australian open mean much tennis little rest', 'federer said earlier month shanghai chances playing davis cup non existent', 'highly doubt course', 'see happens said', 'think designed anyhow', 'designed future generation players', 'argentina britain received wild cards new look event compete along four semi finalists teams win qualifying rounds next february', 'like kind pressure federer said deadline kosmos handed', 'kei nishikori try end long losing streak atp finals kevin anderson go second title year erste bank open sunday', 'fifth seeded nishikori reached third final beating mikhail kukushkin kazakhstan semifinals', 'winner atp events nishikori triumphed since winning memphis february', 'lost eight straight finals since', 'second seeded anderson defeated fernando verdasco', 'anderson shot fifth career title second year winning new york february', 'nishikori leads anderson career matchups south african previous meeting year', 'victory sunday anderson qualify atp finals', 'currently ninth place nishikori win could move within points cut eight man event london next month', 'nishikori held serve throughout kukushkin came qualifying', 'used first break point close first set going second wrapping win first match point', 'verdasco anderson hit nine aces opening set', 'spaniard broke anderson twice second get another chance south african serve final set', 'federer first broke tour two decades ago since gone enjoy glittering career', 'time grand slam winner chasing th atp title swiss indoors week faces jan lennard struff second round thursday pm bst', 'davenport enjoyed success late third final major tournament win came australian open', 'claims mentality professional tennis players slowly began change new millennium', 'seems pretty friendly right said davenport', 'think really nice environment great atmosphere especially veteran players helping younger players', 'pleasant atmosphere say around locker rooms', 'felt like best weeks get know players playing fed cup weeks olympic weeks necessarily tournaments', 'even though maybe smaller teams still think kept quite bit', 'always really feel like mid years huge shift attitudes top players friendly giving lot players like roger coming', 'felt like really kind changed people little bit definitely lot quiet started become better', 'meanwhile federer hoping improve service game hunts ninth swiss indoors title week', 'serve well first round opponent filip kranjovic federer said', 'think misfiring corners hitting lines enough', 'clearly make life difficult still break points things could ended quickly today even though best serve percentage stats', 'maybe exactly caught eventually', 'getting used', 'first rounds tricky', 'nadal played tennis since forced retire us open semi finals juan martin del porto knee injury', 'world forced miss spain davis cup clash france asian hard court season', 'atp world tour finals due begin next month nadal ready prove fitness season ending event arena', 'nadal flew paris friday footage paris masters official twitter account shows spaniard smiling strides onto court practice', 'paris masters draw made nadal start campaign tuesday wednesday either fernando verdasco jeremy chardy', 'nadal could play defending champion jack sock third round potential quarter final either borna coric dominic thiem', 'nadal appearance paris big boost tournament organisers could see roger federer withdraw', 'federer action swiss indoors basel reaches final could pull paris bid stay fresh london', 'stands federer draw scheduled face either former world milos raonic jo wilfried tsonga second round', 'federer projected route paris final could also lead matches kevin anderson novak djokovic', 'djokovic could play marco cecchinato second round', 'british kyle edmund th seed paris get underway round two either karen khachanov filip krajinovic', 'tennis giveth tennis taketh away', 'end season finally sight many players defending losing huge chunks points singapore zhuhai london podcast co hosts nina pantic irina falconi discuss art defending points', 'secret jack sock struggled singles court year record', 'could lose points next weeks instead focusing negative perspective', 'let also forget two grand slam doubles triumphs season', 'two players stefanos tsitsipas kyle edmund first career atp titles last week', 'big deal never forget first', 'irina looks back wta title win bogota tells unforgettable story semifinal drama', 'singapore one biggest storylines aside matches course court coaching debate', 'nina irina give opinions coaching look like future tours', 'federer swiss indoors last week beating romanian qualifier marius copil final', 'year old claimed th atp title hunting century french capital week', 'federer handed difficult draw could could come across kevin anderson novak djokovic rafael nadal latter rounds', 'first time grand slam winner wants train paris masters court afternoon deciding whether appear opening match either milos raonic jo wilfried tsonga', 'monday free look feel federer said winning swiss indoors', 'tuesday fly paris train afternoon ready first match wednesday night', 'felt good week better every day', 'also impression stage might better play matches train', 'long fear injury play', 'federer success basel last week ninth time hometown tournament', 'delighted watched family friends purchased tickets final dearest', 'children parents sister team federer added', 'always emotional thank team', 'sometimes tilts emotions sometimes stumble', 'means world', 'makes incredibly happy win home tournament make people happy', 'know maybe last title today try lot absorb enjoy moments much consciously', 'maybe celebrate last title', 'touching moments seeing ball children standing ovations familiar faces audience', 'always easy last weeks']\n"
     ]
    }
   ],
   "source": [
    "# remove stopwords from the sentences\n",
    "clean_sentences = [remove_stopwords(r.split()) for r in clean_sentences]\n",
    "print(clean_sentences)"
   ]
  },
  {
   "cell_type": "code",
   "execution_count": 17,
   "metadata": {},
   "outputs": [],
   "source": [
    "# Extract word vectors\n",
    "word_embeddings = {}\n",
    "f = open('glove.6B.50d.txt')\n",
    "for line in f:\n",
    "    values = line.split()\n",
    "    word = values[0]\n",
    "    coefs = np.asarray(values[1:], dtype='float32')\n",
    "    word_embeddings[word] = coefs\n",
    "f.close()"
   ]
  },
  {
   "cell_type": "code",
   "execution_count": 40,
   "metadata": {},
   "outputs": [],
   "source": [
    "sentence_vectors = []\n",
    "for i in clean_sentences:\n",
    "  if len(i) != 0:\n",
    "    v = sum([word_embeddings.get(w, np.zeros((50,))) for w in i.split()])/(len(i.split())+0.001)\n",
    "  else:\n",
    "    v = np.zeros((50,))\n",
    "  sentence_vectors.append(v)"
   ]
  },
  {
   "cell_type": "code",
   "execution_count": 33,
   "metadata": {},
   "outputs": [
    {
     "data": {
      "text/plain": [
       "119"
      ]
     },
     "execution_count": 33,
     "metadata": {},
     "output_type": "execute_result"
    }
   ],
   "source": [
    "# similarity matrix\n",
    "sim_mat = np.zeros([len(sentences), len(sentences)])\n",
    "len(sentence_vectors)"
   ]
  },
  {
   "cell_type": "code",
   "execution_count": 23,
   "metadata": {},
   "outputs": [],
   "source": [
    "from sklearn.metrics.pairwise import cosine_similarity"
   ]
  },
  {
   "cell_type": "code",
   "execution_count": 42,
   "metadata": {},
   "outputs": [],
   "source": [
    "for i in range(len(sentences)):\n",
    "  for j in range(len(sentences)):\n",
    "    if i != j:\n",
    "      sim_mat[i][j] = cosine_similarity(sentence_vectors[i].reshape(1,50), sentence_vectors[j].reshape(1,50))[0,0]"
   ]
  },
  {
   "cell_type": "code",
   "execution_count": 43,
   "metadata": {},
   "outputs": [],
   "source": [
    "#Applying page rank algorithm\n",
    "import networkx as nx\n",
    "\n",
    "nx_graph = nx.from_numpy_array(sim_mat)\n",
    "scores = nx.pagerank(nx_graph)\n"
   ]
  },
  {
   "cell_type": "code",
   "execution_count": 44,
   "metadata": {},
   "outputs": [],
   "source": [
    "ranked_sentences = sorted(((scores[i],s) for i,s in enumerate(sentences)), reverse=True)\n"
   ]
  },
  {
   "cell_type": "code",
   "execution_count": 46,
   "metadata": {},
   "outputs": [
    {
     "name": "stdout",
     "output_type": "stream",
     "text": [
      "Speaking at the Swiss Indoors tournament where he will play in Sundays final against Romanian qualifier Marius Copil, the world number three said that given the impossibly short time frame to make a decision, he opted out of any commitment.\n"
     ]
    }
   ],
   "source": [
    "# Extract top 10 sentences as the summary\n",
    "for i in range(1):\n",
    "  print(ranked_sentences[i][1])\n"
   ]
  },
  {
   "cell_type": "code",
   "execution_count": null,
   "metadata": {},
   "outputs": [],
   "source": []
  }
 ],
 "metadata": {
  "kernelspec": {
   "display_name": "Python 2",
   "language": "python",
   "name": "python2"
  },
  "language_info": {
   "codemirror_mode": {
    "name": "ipython",
    "version": 2
   },
   "file_extension": ".py",
   "mimetype": "text/x-python",
   "name": "python",
   "nbconvert_exporter": "python",
   "pygments_lexer": "ipython2",
   "version": "2.7.16"
  }
 },
 "nbformat": 4,
 "nbformat_minor": 2
}
